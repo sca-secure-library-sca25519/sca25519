{
 "cells": [
  {
   "cell_type": "markdown",
   "metadata": {},
   "source": [
    "## Setup Target Board"
   ]
  },
  {
   "cell_type": "code",
   "execution_count": 22,
   "metadata": {},
   "outputs": [],
   "source": [
    "PLATFORM = 'CWLITEARM'\n",
    "CRYPTO_TARGET = 'NONE'\n",
    "SS_VER = 'SS_VER_1_1'"
   ]
  },
  {
   "cell_type": "markdown",
   "metadata": {},
   "source": [
    "## Detect Chipwhisperer Board"
   ]
  },
  {
   "cell_type": "code",
   "execution_count": 23,
   "metadata": {},
   "outputs": [
    {
     "name": "stdout",
     "output_type": "stream",
     "text": [
      "INFO: Found ChipWhisperer😍\n"
     ]
    }
   ],
   "source": [
    "import time\n",
    "import chipwhisperer as cw\n",
    "\n",
    "scope = cw.scope()\n",
    "\n",
    "target_type = cw.targets.SimpleSerial\n",
    "try:\n",
    "    target = cw.target(scope, target_type)\n",
    "except:\n",
    "    print(\"INFO: Caught exception on reconnecting to target - attempting to reconnect to scope first.\")\n",
    "    print(\"INFO: This is a work-around when USB has died without Python knowing. Ignore errors above this line.\")\n",
    "    scope = cw.scope()\n",
    "    target = cw.target(scope, target_type)\n",
    "\n",
    "print(\"INFO: Found ChipWhisperer😍\")\n",
    "\n",
    "prog = cw.programmers.STM32FProgrammer\n",
    "\n",
    "time.sleep(0.05)\n",
    "scope.default_setup()\n",
    "def reset_target(scope):\n",
    "    scope.io.nrst = 'low'\n",
    "    time.sleep(0.05)\n",
    "    scope.io.nrst = 'high_z'\n",
    "    time.sleep(0.05)\n"
   ]
  },
  {
   "cell_type": "markdown",
   "metadata": {},
   "source": [
    "## Compile\n",
    "\n",
    "There are some warnings (for now). "
   ]
  },
  {
   "cell_type": "code",
   "execution_count": 24,
   "metadata": {},
   "outputs": [
    {
     "name": "stdout",
     "output_type": "stream",
     "text": [
      "Building for platform CWLITEARM with CRYPTO_TARGET=NONE\n",
      "SS_VER set to SS_VER_1_1\n",
      "rm -f -- simpleserial_sca25519-CWLITEARM.hex\n",
      "rm -f -- simpleserial_sca25519-CWLITEARM.eep\n",
      "rm -f -- simpleserial_sca25519-CWLITEARM.cof\n",
      "rm -f -- simpleserial_sca25519-CWLITEARM.elf\n",
      "rm -f -- simpleserial_sca25519-CWLITEARM.map\n",
      "rm -f -- simpleserial_sca25519-CWLITEARM.sym\n",
      "rm -f -- simpleserial_sca25519-CWLITEARM.lss\n",
      "rm -f -- objdir/*.o\n",
      "rm -f -- objdir/*.lst\n",
      "rm -f -- main.s test.s crypto/numerics/fe25519.s crypto/numerics/fe25519_invert.s crypto/numerics/sc25519.s crypto/numerics/bigint.s crypto/scalarmult/scalarmult_25519.s crypto/support/randombytes.s simpleserial.s stm32f3_hal.s stm32f3_hal_lowlevel.s stm32f3_sysmem.s\n",
      "rm -f -- main.d test.d crypto/numerics/fe25519.d crypto/numerics/fe25519_invert.d crypto/numerics/sc25519.d crypto/numerics/bigint.d crypto/scalarmult/scalarmult_25519.d crypto/support/randombytes.d simpleserial.d stm32f3_hal.d stm32f3_hal_lowlevel.d stm32f3_sysmem.d\n",
      "rm -f -- main.i test.i crypto/numerics/fe25519.i crypto/numerics/fe25519_invert.i crypto/numerics/sc25519.i crypto/numerics/bigint.i crypto/scalarmult/scalarmult_25519.i crypto/support/randombytes.i simpleserial.i stm32f3_hal.i stm32f3_hal_lowlevel.i stm32f3_sysmem.i\n",
      "mkdir -p .dep\n",
      ".\n",
      "Welcome to another exciting ChipWhisperer target build!!\n",
      "arm-none-eabi-gcc (15:9-2019-q4-0ubuntu1) 9.2.1 20191025 (release) [ARM/arm-9-branch revision 277599]\n",
      "Copyright (C) 2019 Free Software Foundation, Inc.\n",
      "This is free software; see the source for copying conditions.  There is NO\n",
      "warranty; not even for MERCHANTABILITY or FITNESS FOR A PARTICULAR PURPOSE.\n",
      "\n",
      "mkdir -p objdir \n",
      ".\n",
      "Compiling C: main.c\n",
      "arm-none-eabi-gcc -c -mcpu=cortex-m4 -I.  -mthumb -mfloat-abi=soft -fmessage-length=0 -ffunction-sections -gdwarf-2 -DSTM32F4 -DCORTEX_M4 -mthumb -mcpu=cortex-m4 -mfpu=fpv4-sp-d16 -DSS_VER=SS_VER_1_1 -DSTM32F303xC -DSTM32F3 -DSTM32 -DDEBUG -DHAL_TYPE=HAL_stm32f3 -DPLATFORM=CWLITEARM -DF_CPU=7372800UL -DSS_VER_2_0=2 -DSS_VER_2_1=3 -DSS_VER_1_1=1 -DSS_VER_1_0=0 -O2 -funsigned-char -funsigned-bitfields -fshort-enums -Wall -Wstrict-prototypes -Wa,-adhlns=objdir/main.lst -I.././simpleserial/ -I.././hal -I.././hal/stm32f3 -I.././hal/stm32f3/CMSIS -I.././hal/stm32f3/CMSIS/core -I.././hal/stm32f3/CMSIS/device -I.././hal/stm32f4/Legacy -I.././crypto/ -std=gnu99  -MMD -MP -MF .dep/main.o.d main.c -o objdir/main.o\n"
     ]
    },
    {
     "name": "stderr",
     "output_type": "stream",
     "text": [
      "main.c: In function 'sca25519_test':\n",
      "main.c:40:3: warning: implicit declaration of function 'sprintf' [-Wimplicit-function-declaration]\n",
      "   40 |   sprintf(str, \"Tests output : %lu\", res);\n",
      "      |   ^~~~~~~\n",
      "main.c:40:3: warning: incompatible implicit declaration of built-in function 'sprintf'\n",
      "main.c:13:1: note: include '<stdio.h>' or provide a declaration of 'sprintf'\n",
      "   12 | #include \"simpleserial.h\"\n",
      "  +++ |+#include <stdio.h>\n",
      "   13 | \n",
      "main.c:32:7: warning: unused variable 'i' [-Wunused-variable]\n",
      "   32 |   int i;\n",
      "      |       ^\n",
      "main.c:31:11: warning: unused variable 'result' [-Wunused-variable]\n",
      "   31 |   uint8_t result[32];\n",
      "      |           ^~~~~~\n",
      "main.c: In function 'sca25519_one':\n",
      "main.c:58:9: warning: implicit declaration of function 'test_curve25519_DH_TV_once'; did you mean 'test_curve25519_DH_TV'? [-Wimplicit-function-declaration]\n",
      "   58 |   res = test_curve25519_DH_TV_once();\n",
      "      |         ^~~~~~~~~~~~~~~~~~~~~~~~~~\n",
      "      |         test_curve25519_DH_TV\n",
      "main.c:61:3: warning: incompatible implicit declaration of built-in function 'sprintf'\n",
      "   61 |   sprintf(str, \"Sanity check : %lu\", res);\n",
      "      |   ^~~~~~~\n",
      "main.c:61:3: note: include '<stdio.h>' or provide a declaration of 'sprintf'\n",
      "main.c:54:7: warning: unused variable 'i' [-Wunused-variable]\n",
      "   54 |   int i;\n",
      "      |       ^\n",
      "main.c:53:11: warning: unused variable 'result' [-Wunused-variable]\n",
      "   53 |   uint8_t result[32];\n",
      "      |           ^~~~~~\n"
     ]
    },
    {
     "name": "stdout",
     "output_type": "stream",
     "text": [
      ".\n",
      "Compiling C: test.c\n",
      "arm-none-eabi-gcc -c -mcpu=cortex-m4 -I.  -mthumb -mfloat-abi=soft -fmessage-length=0 -ffunction-sections -gdwarf-2 -DSTM32F4 -DCORTEX_M4 -mthumb -mcpu=cortex-m4 -mfpu=fpv4-sp-d16 -DSS_VER=SS_VER_1_1 -DSTM32F303xC -DSTM32F3 -DSTM32 -DDEBUG -DHAL_TYPE=HAL_stm32f3 -DPLATFORM=CWLITEARM -DF_CPU=7372800UL -DSS_VER_2_0=2 -DSS_VER_2_1=3 -DSS_VER_1_1=1 -DSS_VER_1_0=0 -O2 -funsigned-char -funsigned-bitfields -fshort-enums -Wall -Wstrict-prototypes -Wa,-adhlns=objdir/test.lst -I.././simpleserial/ -I.././hal -I.././hal/stm32f3 -I.././hal/stm32f3/CMSIS -I.././hal/stm32f3/CMSIS/core -I.././hal/stm32f3/CMSIS/device -I.././hal/stm32f4/Legacy -I.././crypto/ -std=gnu99  -MMD -MP -MF .dep/test.o.d test.c -o objdir/test.o\n"
     ]
    },
    {
     "name": "stderr",
     "output_type": "stream",
     "text": [
      "test.c:112:5: warning: function declaration isn't a prototype [-Wstrict-prototypes]\n",
      "  112 | int test_curve25519_DH_TV_once() {\n",
      "      |     ^~~~~~~~~~~~~~~~~~~~~~~~~~\n",
      "test.c: In function 'test_curve25519_DH_TV_once':\n",
      "test.c:141:11: warning: unused variable 'correct_ss' [-Wunused-variable]\n",
      "  141 |   uint8_t correct_ss[] = {0x4A, 0x5D, 0x9D, 0x5B, 0xA4, 0xCE, 0x2D, 0xE1,\n",
      "      |           ^~~~~~~~~~\n",
      "test.c:137:11: warning: unused variable 'correct_pk_B' [-Wunused-variable]\n",
      "  137 |   uint8_t correct_pk_B[] = {0xDE, 0x9E, 0xDB, 0x7D, 0x7B, 0x7D, 0xC1, 0xB4,\n",
      "      |           ^~~~~~~~~~~~\n",
      "test.c:131:11: warning: unused variable 'ss_B' [-Wunused-variable]\n",
      "  131 |   uint8_t ss_B[32];\n",
      "      |           ^~~~\n",
      "test.c:130:11: warning: unused variable 'ss_A' [-Wunused-variable]\n",
      "  130 |   uint8_t ss_A[32];\n",
      "      |           ^~~~\n",
      "test.c:129:11: warning: unused variable 'pk_B' [-Wunused-variable]\n",
      "  129 |   uint8_t pk_B[32];\n",
      "      |           ^~~~\n"
     ]
    },
    {
     "name": "stdout",
     "output_type": "stream",
     "text": [
      ".\n",
      "Compiling C: crypto/numerics/fe25519.c\n",
      "arm-none-eabi-gcc -c -mcpu=cortex-m4 -I.  -mthumb -mfloat-abi=soft -fmessage-length=0 -ffunction-sections -gdwarf-2 -DSTM32F4 -DCORTEX_M4 -mthumb -mcpu=cortex-m4 -mfpu=fpv4-sp-d16 -DSS_VER=SS_VER_1_1 -DSTM32F303xC -DSTM32F3 -DSTM32 -DDEBUG -DHAL_TYPE=HAL_stm32f3 -DPLATFORM=CWLITEARM -DF_CPU=7372800UL -DSS_VER_2_0=2 -DSS_VER_2_1=3 -DSS_VER_1_1=1 -DSS_VER_1_0=0 -O2 -funsigned-char -funsigned-bitfields -fshort-enums -Wall -Wstrict-prototypes -Wa,-adhlns=objdir/fe25519.lst -I.././simpleserial/ -I.././hal -I.././hal/stm32f3 -I.././hal/stm32f3/CMSIS -I.././hal/stm32f3/CMSIS/core -I.././hal/stm32f3/CMSIS/device -I.././hal/stm32f4/Legacy -I.././crypto/ -std=gnu99  -MMD -MP -MF .dep/fe25519.o.d crypto/numerics/fe25519.c -o objdir/crypto/numerics/fe25519.o\n",
      ".\n",
      "Compiling C: crypto/numerics/fe25519_invert.c\n",
      "arm-none-eabi-gcc -c -mcpu=cortex-m4 -I.  -mthumb -mfloat-abi=soft -fmessage-length=0 -ffunction-sections -gdwarf-2 -DSTM32F4 -DCORTEX_M4 -mthumb -mcpu=cortex-m4 -mfpu=fpv4-sp-d16 -DSS_VER=SS_VER_1_1 -DSTM32F303xC -DSTM32F3 -DSTM32 -DDEBUG -DHAL_TYPE=HAL_stm32f3 -DPLATFORM=CWLITEARM -DF_CPU=7372800UL -DSS_VER_2_0=2 -DSS_VER_2_1=3 -DSS_VER_1_1=1 -DSS_VER_1_0=0 -O2 -funsigned-char -funsigned-bitfields -fshort-enums -Wall -Wstrict-prototypes -Wa,-adhlns=objdir/fe25519_invert.lst -I.././simpleserial/ -I.././hal -I.././hal/stm32f3 -I.././hal/stm32f3/CMSIS -I.././hal/stm32f3/CMSIS/core -I.././hal/stm32f3/CMSIS/device -I.././hal/stm32f4/Legacy -I.././crypto/ -std=gnu99  -MMD -MP -MF .dep/fe25519_invert.o.d crypto/numerics/fe25519_invert.c -o objdir/crypto/numerics/fe25519_invert.o\n",
      ".\n",
      "Compiling C: crypto/numerics/sc25519.c\n",
      "arm-none-eabi-gcc -c -mcpu=cortex-m4 -I.  -mthumb -mfloat-abi=soft -fmessage-length=0 -ffunction-sections -gdwarf-2 -DSTM32F4 -DCORTEX_M4 -mthumb -mcpu=cortex-m4 -mfpu=fpv4-sp-d16 -DSS_VER=SS_VER_1_1 -DSTM32F303xC -DSTM32F3 -DSTM32 -DDEBUG -DHAL_TYPE=HAL_stm32f3 -DPLATFORM=CWLITEARM -DF_CPU=7372800UL -DSS_VER_2_0=2 -DSS_VER_2_1=3 -DSS_VER_1_1=1 -DSS_VER_1_0=0 -O2 -funsigned-char -funsigned-bitfields -fshort-enums -Wall -Wstrict-prototypes -Wa,-adhlns=objdir/sc25519.lst -I.././simpleserial/ -I.././hal -I.././hal/stm32f3 -I.././hal/stm32f3/CMSIS -I.././hal/stm32f3/CMSIS/core -I.././hal/stm32f3/CMSIS/device -I.././hal/stm32f4/Legacy -I.././crypto/ -std=gnu99  -MMD -MP -MF .dep/sc25519.o.d crypto/numerics/sc25519.c -o objdir/crypto/numerics/sc25519.o\n",
      ".\n",
      "Compiling C: crypto/numerics/bigint.c\n",
      "arm-none-eabi-gcc -c -mcpu=cortex-m4 -I.  -mthumb -mfloat-abi=soft -fmessage-length=0 -ffunction-sections -gdwarf-2 -DSTM32F4 -DCORTEX_M4 -mthumb -mcpu=cortex-m4 -mfpu=fpv4-sp-d16 -DSS_VER=SS_VER_1_1 -DSTM32F303xC -DSTM32F3 -DSTM32 -DDEBUG -DHAL_TYPE=HAL_stm32f3 -DPLATFORM=CWLITEARM -DF_CPU=7372800UL -DSS_VER_2_0=2 -DSS_VER_2_1=3 -DSS_VER_1_1=1 -DSS_VER_1_0=0 -O2 -funsigned-char -funsigned-bitfields -fshort-enums -Wall -Wstrict-prototypes -Wa,-adhlns=objdir/bigint.lst -I.././simpleserial/ -I.././hal -I.././hal/stm32f3 -I.././hal/stm32f3/CMSIS -I.././hal/stm32f3/CMSIS/core -I.././hal/stm32f3/CMSIS/device -I.././hal/stm32f4/Legacy -I.././crypto/ -std=gnu99  -MMD -MP -MF .dep/bigint.o.d crypto/numerics/bigint.c -o objdir/crypto/numerics/bigint.o\n",
      ".\n",
      "Compiling C: crypto/scalarmult/scalarmult_25519.c\n",
      "arm-none-eabi-gcc -c -mcpu=cortex-m4 -I.  -mthumb -mfloat-abi=soft -fmessage-length=0 -ffunction-sections -gdwarf-2 -DSTM32F4 -DCORTEX_M4 -mthumb -mcpu=cortex-m4 -mfpu=fpv4-sp-d16 -DSS_VER=SS_VER_1_1 -DSTM32F303xC -DSTM32F3 -DSTM32 -DDEBUG -DHAL_TYPE=HAL_stm32f3 -DPLATFORM=CWLITEARM -DF_CPU=7372800UL -DSS_VER_2_0=2 -DSS_VER_2_1=3 -DSS_VER_1_1=1 -DSS_VER_1_0=0 -O2 -funsigned-char -funsigned-bitfields -fshort-enums -Wall -Wstrict-prototypes -Wa,-adhlns=objdir/scalarmult_25519.lst -I.././simpleserial/ -I.././hal -I.././hal/stm32f3 -I.././hal/stm32f3/CMSIS -I.././hal/stm32f3/CMSIS/core -I.././hal/stm32f3/CMSIS/device -I.././hal/stm32f4/Legacy -I.././crypto/ -std=gnu99  -MMD -MP -MF .dep/scalarmult_25519.o.d crypto/scalarmult/scalarmult_25519.c -o objdir/crypto/scalarmult/scalarmult_25519.o\n",
      ".\n",
      "Compiling C: crypto/support/randombytes.c\n",
      "arm-none-eabi-gcc -c -mcpu=cortex-m4 -I.  -mthumb -mfloat-abi=soft -fmessage-length=0 -ffunction-sections -gdwarf-2 -DSTM32F4 -DCORTEX_M4 -mthumb -mcpu=cortex-m4 -mfpu=fpv4-sp-d16 -DSS_VER=SS_VER_1_1 -DSTM32F303xC -DSTM32F3 -DSTM32 -DDEBUG -DHAL_TYPE=HAL_stm32f3 -DPLATFORM=CWLITEARM -DF_CPU=7372800UL -DSS_VER_2_0=2 -DSS_VER_2_1=3 -DSS_VER_1_1=1 -DSS_VER_1_0=0 -O2 -funsigned-char -funsigned-bitfields -fshort-enums -Wall -Wstrict-prototypes -Wa,-adhlns=objdir/randombytes.lst -I.././simpleserial/ -I.././hal -I.././hal/stm32f3 -I.././hal/stm32f3/CMSIS -I.././hal/stm32f3/CMSIS/core -I.././hal/stm32f3/CMSIS/device -I.././hal/stm32f4/Legacy -I.././crypto/ -std=gnu99  -MMD -MP -MF .dep/randombytes.o.d crypto/support/randombytes.c -o objdir/crypto/support/randombytes.o\n",
      ".\n",
      "Compiling C: .././simpleserial/simpleserial.c\n",
      "arm-none-eabi-gcc -c -mcpu=cortex-m4 -I.  -mthumb -mfloat-abi=soft -fmessage-length=0 -ffunction-sections -gdwarf-2 -DSTM32F4 -DCORTEX_M4 -mthumb -mcpu=cortex-m4 -mfpu=fpv4-sp-d16 -DSS_VER=SS_VER_1_1 -DSTM32F303xC -DSTM32F3 -DSTM32 -DDEBUG -DHAL_TYPE=HAL_stm32f3 -DPLATFORM=CWLITEARM -DF_CPU=7372800UL -DSS_VER_2_0=2 -DSS_VER_2_1=3 -DSS_VER_1_1=1 -DSS_VER_1_0=0 -O2 -funsigned-char -funsigned-bitfields -fshort-enums -Wall -Wstrict-prototypes -Wa,-adhlns=objdir/simpleserial.lst -I.././simpleserial/ -I.././hal -I.././hal/stm32f3 -I.././hal/stm32f3/CMSIS -I.././hal/stm32f3/CMSIS/core -I.././hal/stm32f3/CMSIS/device -I.././hal/stm32f4/Legacy -I.././crypto/ -std=gnu99  -MMD -MP -MF .dep/simpleserial.o.d .././simpleserial/simpleserial.c -o objdir/simpleserial.o\n",
      ".\n",
      "Compiling C: .././hal/stm32f3/stm32f3_hal.c\n",
      "arm-none-eabi-gcc -c -mcpu=cortex-m4 -I.  -mthumb -mfloat-abi=soft -fmessage-length=0 -ffunction-sections -gdwarf-2 -DSTM32F4 -DCORTEX_M4 -mthumb -mcpu=cortex-m4 -mfpu=fpv4-sp-d16 -DSS_VER=SS_VER_1_1 -DSTM32F303xC -DSTM32F3 -DSTM32 -DDEBUG -DHAL_TYPE=HAL_stm32f3 -DPLATFORM=CWLITEARM -DF_CPU=7372800UL -DSS_VER_2_0=2 -DSS_VER_2_1=3 -DSS_VER_1_1=1 -DSS_VER_1_0=0 -O2 -funsigned-char -funsigned-bitfields -fshort-enums -Wall -Wstrict-prototypes -Wa,-adhlns=objdir/stm32f3_hal.lst -I.././simpleserial/ -I.././hal -I.././hal/stm32f3 -I.././hal/stm32f3/CMSIS -I.././hal/stm32f3/CMSIS/core -I.././hal/stm32f3/CMSIS/device -I.././hal/stm32f4/Legacy -I.././crypto/ -std=gnu99  -MMD -MP -MF .dep/stm32f3_hal.o.d .././hal/stm32f3/stm32f3_hal.c -o objdir/stm32f3_hal.o\n"
     ]
    },
    {
     "name": "stderr",
     "output_type": "stream",
     "text": [
      "In file included from .././hal/stm32f3/stm32f3xx_hal_def.h:49,\n",
      "                 from .././hal/stm32f3/stm32f3xx_hal_rcc.h:47,\n",
      "                 from .././hal/stm32f3/stm32f3_hal.c:4:\n",
      ".././hal/stm32f3/Legacy/stm32_hal_legacy.h:452: warning: \"GPIO_SPEED_HIGH\" redefined\n",
      "  452 |  #define  GPIO_SPEED_HIGH   GPIO_SPEED_FREQ_HIGH\n",
      "      | \n",
      ".././hal/stm32f3/Legacy/stm32_hal_legacy.h:439: note: this is the location of the previous definition\n",
      "  439 | #define  GPIO_SPEED_HIGH                          GPIO_SPEED_FREQ_VERY_HIGH\n",
      "      | \n"
     ]
    },
    {
     "name": "stdout",
     "output_type": "stream",
     "text": [
      ".\n",
      "Compiling C: .././hal/stm32f3/stm32f3_hal_lowlevel.c\n",
      "arm-none-eabi-gcc -c -mcpu=cortex-m4 -I.  -mthumb -mfloat-abi=soft -fmessage-length=0 -ffunction-sections -gdwarf-2 -DSTM32F4 -DCORTEX_M4 -mthumb -mcpu=cortex-m4 -mfpu=fpv4-sp-d16 -DSS_VER=SS_VER_1_1 -DSTM32F303xC -DSTM32F3 -DSTM32 -DDEBUG -DHAL_TYPE=HAL_stm32f3 -DPLATFORM=CWLITEARM -DF_CPU=7372800UL -DSS_VER_2_0=2 -DSS_VER_2_1=3 -DSS_VER_1_1=1 -DSS_VER_1_0=0 -O2 -funsigned-char -funsigned-bitfields -fshort-enums -Wall -Wstrict-prototypes -Wa,-adhlns=objdir/stm32f3_hal_lowlevel.lst -I.././simpleserial/ -I.././hal -I.././hal/stm32f3 -I.././hal/stm32f3/CMSIS -I.././hal/stm32f3/CMSIS/core -I.././hal/stm32f3/CMSIS/device -I.././hal/stm32f4/Legacy -I.././crypto/ -std=gnu99  -MMD -MP -MF .dep/stm32f3_hal_lowlevel.o.d .././hal/stm32f3/stm32f3_hal_lowlevel.c -o objdir/stm32f3_hal_lowlevel.o\n"
     ]
    },
    {
     "name": "stderr",
     "output_type": "stream",
     "text": [
      "In file included from .././hal/stm32f3/stm32f3xx_hal_def.h:49,\n",
      "                 from .././hal/stm32f3/stm32f3xx_hal_rcc.h:47,\n",
      "                 from .././hal/stm32f3/stm32f3_hal_lowlevel.c:40:\n",
      ".././hal/stm32f3/Legacy/stm32_hal_legacy.h:452: warning: \"GPIO_SPEED_HIGH\" redefined\n",
      "  452 |  #define  GPIO_SPEED_HIGH   GPIO_SPEED_FREQ_HIGH\n",
      "      | \n",
      ".././hal/stm32f3/Legacy/stm32_hal_legacy.h:439: note: this is the location of the previous definition\n",
      "  439 | #define  GPIO_SPEED_HIGH                          GPIO_SPEED_FREQ_VERY_HIGH\n",
      "      | \n"
     ]
    },
    {
     "name": "stdout",
     "output_type": "stream",
     "text": [
      ".\n",
      "Compiling C: .././hal/stm32f3/stm32f3_sysmem.c\n",
      "arm-none-eabi-gcc -c -mcpu=cortex-m4 -I.  -mthumb -mfloat-abi=soft -fmessage-length=0 -ffunction-sections -gdwarf-2 -DSTM32F4 -DCORTEX_M4 -mthumb -mcpu=cortex-m4 -mfpu=fpv4-sp-d16 -DSS_VER=SS_VER_1_1 -DSTM32F303xC -DSTM32F3 -DSTM32 -DDEBUG -DHAL_TYPE=HAL_stm32f3 -DPLATFORM=CWLITEARM -DF_CPU=7372800UL -DSS_VER_2_0=2 -DSS_VER_2_1=3 -DSS_VER_1_1=1 -DSS_VER_1_0=0 -O2 -funsigned-char -funsigned-bitfields -fshort-enums -Wall -Wstrict-prototypes -Wa,-adhlns=objdir/stm32f3_sysmem.lst -I.././simpleserial/ -I.././hal -I.././hal/stm32f3 -I.././hal/stm32f3/CMSIS -I.././hal/stm32f3/CMSIS/core -I.././hal/stm32f3/CMSIS/device -I.././hal/stm32f4/Legacy -I.././crypto/ -std=gnu99  -MMD -MP -MF .dep/stm32f3_sysmem.o.d .././hal/stm32f3/stm32f3_sysmem.c -o objdir/stm32f3_sysmem.o\n",
      ".\n",
      "Assembling: crypto/asm/cortex_m4_sqr_fe25519.S\n",
      "arm-none-eabi-gcc -c -mcpu=cortex-m4 -I. -x assembler-with-cpp -mthumb -mfloat-abi=soft -fmessage-length=0 -ffunction-sections -DF_CPU=7372800 -Wa,-gstabs,-adhlns=objdir/cortex_m4_sqr_fe25519.lst -I.././simpleserial/ -I.././hal -I.././hal/stm32f3 -I.././hal/stm32f3/CMSIS -I.././hal/stm32f3/CMSIS/core -I.././hal/stm32f3/CMSIS/device -I.././hal/stm32f4/Legacy -I.././crypto/ crypto/asm/cortex_m4_sqr_fe25519.S -o objdir/crypto/asm/cortex_m4_sqr_fe25519.o\n",
      ".\n",
      "Assembling: crypto/asm/cortex_m4_cSwapAndRandomize.S\n",
      "arm-none-eabi-gcc -c -mcpu=cortex-m4 -I. -x assembler-with-cpp -mthumb -mfloat-abi=soft -fmessage-length=0 -ffunction-sections -DF_CPU=7372800 -Wa,-gstabs,-adhlns=objdir/cortex_m4_cSwapAndRandomize.lst -I.././simpleserial/ -I.././hal -I.././hal/stm32f3 -I.././hal/stm32f3/CMSIS -I.././hal/stm32f3/CMSIS/core -I.././hal/stm32f3/CMSIS/device -I.././hal/stm32f4/Legacy -I.././crypto/ crypto/asm/cortex_m4_cSwapAndRandomize.S -o objdir/crypto/asm/cortex_m4_cSwapAndRandomize.o\n",
      ".\n",
      "Assembling: crypto/asm/cortex_m4_reduce25519.S\n",
      "arm-none-eabi-gcc -c -mcpu=cortex-m4 -I. -x assembler-with-cpp -mthumb -mfloat-abi=soft -fmessage-length=0 -ffunction-sections -DF_CPU=7372800 -Wa,-gstabs,-adhlns=objdir/cortex_m4_reduce25519.lst -I.././simpleserial/ -I.././hal -I.././hal/stm32f3 -I.././hal/stm32f3/CMSIS -I.././hal/stm32f3/CMSIS/core -I.././hal/stm32f3/CMSIS/device -I.././hal/stm32f4/Legacy -I.././crypto/ crypto/asm/cortex_m4_reduce25519.S -o objdir/crypto/asm/cortex_m4_reduce25519.o\n",
      ".\n",
      "Assembling: crypto/asm/cortex_m4_add_fe25519.S\n",
      "arm-none-eabi-gcc -c -mcpu=cortex-m4 -I. -x assembler-with-cpp -mthumb -mfloat-abi=soft -fmessage-length=0 -ffunction-sections -DF_CPU=7372800 -Wa,-gstabs,-adhlns=objdir/cortex_m4_add_fe25519.lst -I.././simpleserial/ -I.././hal -I.././hal/stm32f3 -I.././hal/stm32f3/CMSIS -I.././hal/stm32f3/CMSIS/core -I.././hal/stm32f3/CMSIS/device -I.././hal/stm32f4/Legacy -I.././crypto/ crypto/asm/cortex_m4_add_fe25519.S -o objdir/crypto/asm/cortex_m4_add_fe25519.o\n",
      ".\n",
      "Assembling: crypto/asm/cortex_m4_mpy_256.S\n",
      "arm-none-eabi-gcc -c -mcpu=cortex-m4 -I. -x assembler-with-cpp -mthumb -mfloat-abi=soft -fmessage-length=0 -ffunction-sections -DF_CPU=7372800 -Wa,-gstabs,-adhlns=objdir/cortex_m4_mpy_256.lst -I.././simpleserial/ -I.././hal -I.././hal/stm32f3 -I.././hal/stm32f3/CMSIS -I.././hal/stm32f3/CMSIS/core -I.././hal/stm32f3/CMSIS/device -I.././hal/stm32f4/Legacy -I.././crypto/ crypto/asm/cortex_m4_mpy_256.S -o objdir/crypto/asm/cortex_m4_mpy_256.o\n",
      ".\n",
      "Assembling: crypto/asm/cortex_m4_cswap.S\n",
      "arm-none-eabi-gcc -c -mcpu=cortex-m4 -I. -x assembler-with-cpp -mthumb -mfloat-abi=soft -fmessage-length=0 -ffunction-sections -DF_CPU=7372800 -Wa,-gstabs,-adhlns=objdir/cortex_m4_cswap.lst -I.././simpleserial/ -I.././hal -I.././hal/stm32f3 -I.././hal/stm32f3/CMSIS -I.././hal/stm32f3/CMSIS/core -I.././hal/stm32f3/CMSIS/device -I.././hal/stm32f4/Legacy -I.././crypto/ crypto/asm/cortex_m4_cswap.S -o objdir/crypto/asm/cortex_m4_cswap.o\n",
      ".\n",
      "Assembling: crypto/asm/cortex_m4_mpy_fe25519.S\n",
      "arm-none-eabi-gcc -c -mcpu=cortex-m4 -I. -x assembler-with-cpp -mthumb -mfloat-abi=soft -fmessage-length=0 -ffunction-sections -DF_CPU=7372800 -Wa,-gstabs,-adhlns=objdir/cortex_m4_mpy_fe25519.lst -I.././simpleserial/ -I.././hal -I.././hal/stm32f3 -I.././hal/stm32f3/CMSIS -I.././hal/stm32f3/CMSIS/core -I.././hal/stm32f3/CMSIS/device -I.././hal/stm32f4/Legacy -I.././crypto/ crypto/asm/cortex_m4_mpy_fe25519.S -o objdir/crypto/asm/cortex_m4_mpy_fe25519.o\n",
      ".\n",
      "Assembling: crypto/asm/cortex_m4_mpy121666.S\n",
      "arm-none-eabi-gcc -c -mcpu=cortex-m4 -I. -x assembler-with-cpp -mthumb -mfloat-abi=soft -fmessage-length=0 -ffunction-sections -DF_CPU=7372800 -Wa,-gstabs,-adhlns=objdir/cortex_m4_mpy121666.lst -I.././simpleserial/ -I.././hal -I.././hal/stm32f3 -I.././hal/stm32f3/CMSIS -I.././hal/stm32f3/CMSIS/core -I.././hal/stm32f3/CMSIS/device -I.././hal/stm32f4/Legacy -I.././crypto/ crypto/asm/cortex_m4_mpy121666.S -o objdir/crypto/asm/cortex_m4_mpy121666.o\n",
      ".\n",
      "Assembling: crypto/asm/cortex_m4_sqr_256.S\n",
      "arm-none-eabi-gcc -c -mcpu=cortex-m4 -I. -x assembler-with-cpp -mthumb -mfloat-abi=soft -fmessage-length=0 -ffunction-sections -DF_CPU=7372800 -Wa,-gstabs,-adhlns=objdir/cortex_m4_sqr_256.lst -I.././simpleserial/ -I.././hal -I.././hal/stm32f3 -I.././hal/stm32f3/CMSIS -I.././hal/stm32f3/CMSIS/core -I.././hal/stm32f3/CMSIS/device -I.././hal/stm32f4/Legacy -I.././crypto/ crypto/asm/cortex_m4_sqr_256.S -o objdir/crypto/asm/cortex_m4_sqr_256.o\n",
      ".\n",
      "Assembling: crypto/asm/cortex_m4_hsalsa20_block.S\n",
      "arm-none-eabi-gcc -c -mcpu=cortex-m4 -I. -x assembler-with-cpp -mthumb -mfloat-abi=soft -fmessage-length=0 -ffunction-sections -DF_CPU=7372800 -Wa,-gstabs,-adhlns=objdir/cortex_m4_hsalsa20_block.lst -I.././simpleserial/ -I.././hal -I.././hal/stm32f3 -I.././hal/stm32f3/CMSIS -I.././hal/stm32f3/CMSIS/core -I.././hal/stm32f3/CMSIS/device -I.././hal/stm32f4/Legacy -I.././crypto/ crypto/asm/cortex_m4_hsalsa20_block.S -o objdir/crypto/asm/cortex_m4_hsalsa20_block.o\n",
      ".\n",
      "Assembling: .././hal/stm32f3/stm32f3_startup.S\n",
      "arm-none-eabi-gcc -c -mcpu=cortex-m4 -I. -x assembler-with-cpp -mthumb -mfloat-abi=soft -fmessage-length=0 -ffunction-sections -DF_CPU=7372800 -Wa,-gstabs,-adhlns=objdir/stm32f3_startup.lst -I.././simpleserial/ -I.././hal -I.././hal/stm32f3 -I.././hal/stm32f3/CMSIS -I.././hal/stm32f3/CMSIS/core -I.././hal/stm32f3/CMSIS/device -I.././hal/stm32f4/Legacy -I.././crypto/ .././hal/stm32f3/stm32f3_startup.S -o objdir/stm32f3_startup.o\n",
      ".\n",
      "Linking: simpleserial_sca25519-CWLITEARM.elf\n",
      "arm-none-eabi-gcc -mcpu=cortex-m4 -I.  -mthumb -mfloat-abi=soft -fmessage-length=0 -ffunction-sections -gdwarf-2 -DSTM32F4 -DCORTEX_M4 -mthumb -mcpu=cortex-m4 -mfpu=fpv4-sp-d16 -DSS_VER=SS_VER_1_1 -DSTM32F303xC -DSTM32F3 -DSTM32 -DDEBUG -DHAL_TYPE=HAL_stm32f3 -DPLATFORM=CWLITEARM -DF_CPU=7372800UL -DSS_VER_2_0=2 -DSS_VER_2_1=3 -DSS_VER_1_1=1 -DSS_VER_1_0=0 -O2 -funsigned-char -funsigned-bitfields -fshort-enums -Wall -Wstrict-prototypes -Wa,-adhlns=objdir/main.o -I.././simpleserial/ -I.././hal -I.././hal/stm32f3 -I.././hal/stm32f3/CMSIS -I.././hal/stm32f3/CMSIS/core -I.././hal/stm32f3/CMSIS/device -I.././hal/stm32f4/Legacy -I.././crypto/ -std=gnu99  -MMD -MP -MF .dep/simpleserial_sca25519-CWLITEARM.elf.d objdir/main.o objdir/test.o objdir/crypto/numerics/fe25519.o objdir/crypto/numerics/fe25519_invert.o objdir/crypto/numerics/sc25519.o objdir/crypto/numerics/bigint.o objdir/crypto/scalarmult/scalarmult_25519.o objdir/crypto/support/randombytes.o objdir/simpleserial.o objdir/stm32f3_hal.o objdir/stm32f3_hal_lowlevel.o objdir/stm32f3_sysmem.o objdir/crypto/asm/cortex_m4_sqr_fe25519.o objdir/crypto/asm/cortex_m4_cSwapAndRandomize.o objdir/crypto/asm/cortex_m4_reduce25519.o objdir/crypto/asm/cortex_m4_add_fe25519.o objdir/crypto/asm/cortex_m4_mpy_256.o objdir/crypto/asm/cortex_m4_cswap.o objdir/crypto/asm/cortex_m4_mpy_fe25519.o objdir/crypto/asm/cortex_m4_mpy121666.o objdir/crypto/asm/cortex_m4_sqr_256.o objdir/crypto/asm/cortex_m4_hsalsa20_block.o objdir/stm32f3_startup.o --output simpleserial_sca25519-CWLITEARM.elf --specs=nano.specs --specs=nosys.specs -T .././hal/stm32f3/LinkerScript.ld -Wl,--gc-sections -lm -Wl,-Map=simpleserial_sca25519-CWLITEARM.map,--cref   -lm  \n",
      ".\n",
      "Creating load file for Flash: simpleserial_sca25519-CWLITEARM.hex\n",
      "arm-none-eabi-objcopy -O ihex -R .eeprom -R .fuse -R .lock -R .signature simpleserial_sca25519-CWLITEARM.elf simpleserial_sca25519-CWLITEARM.hex\n"
     ]
    },
    {
     "name": "stdout",
     "output_type": "stream",
     "text": [
      ".\n",
      "Creating load file for EEPROM: simpleserial_sca25519-CWLITEARM.eep\n",
      "arm-none-eabi-objcopy -j .eeprom --set-section-flags=.eeprom=\"alloc,load\" \\\n",
      "--change-section-lma .eeprom=0 --no-change-warnings -O ihex simpleserial_sca25519-CWLITEARM.elf simpleserial_sca25519-CWLITEARM.eep || exit 0\n",
      ".\n",
      "Creating Extended Listing: simpleserial_sca25519-CWLITEARM.lss\n",
      "arm-none-eabi-objdump -h -S -z simpleserial_sca25519-CWLITEARM.elf > simpleserial_sca25519-CWLITEARM.lss\n",
      ".\n",
      "Creating Symbol Table: simpleserial_sca25519-CWLITEARM.sym\n",
      "arm-none-eabi-nm -n simpleserial_sca25519-CWLITEARM.elf > simpleserial_sca25519-CWLITEARM.sym\n",
      "Size after:\n",
      "   text\t   data\t    bss\t    dec\t    hex\tfilename\n",
      "  19292\t    108\t   1452\t  20852\t   5174\tsimpleserial_sca25519-CWLITEARM.elf\n",
      "+--------------------------------------------------------\n",
      "+ Default target does full rebuild each time.\n",
      "+ Specify buildtarget == allquick == to avoid full rebuild\n",
      "+--------------------------------------------------------\n",
      "+--------------------------------------------------------\n",
      "+ Built for platform CW-Lite Arm \\(STM32F3\\) with:\n",
      "+ CRYPTO_TARGET = NONE\n",
      "+ CRYPTO_OPTIONS = \n",
      "+--------------------------------------------------------\n"
     ]
    }
   ],
   "source": [
    "%%bash -s \"$SS_VER\" \"$PLATFORM\" \"$CRYPTO_TARGET\"\n",
    "rm -rf objdir-$2 objdir .dep\n",
    "make SS_VER=$1 PLATFORM=$2 CRYPTO_TARGET=$3"
   ]
  },
  {
   "cell_type": "markdown",
   "metadata": {},
   "source": [
    "## Flash Binary on the Victim Board\n",
    "\n",
    "**Note:** If you use a STM32F target board of Revision-02 then you first need to set a specific jumper cable on the UFO board for the following code to work.\n",
    "\n",
    "For more information have a look here: https://rtfm.newae.com/Targets/UFO%20Targets/CW308T-STM32F/"
   ]
  },
  {
   "cell_type": "code",
   "execution_count": null,
   "metadata": {},
   "outputs": [
    {
     "name": "stdout",
     "output_type": "stream",
     "text": [
      "Detected known STMF32: STM32F302xB(C)/303xB(C)\n",
      "Extended erase (0x44), this can take ten seconds or more\n",
      "Attempting to program 19407 bytes at 0x8000000\n",
      "STM32F Programming flash...\n",
      "STM32F Reading flash...\n"
     ]
    }
   ],
   "source": [
    "HEXFILE = \"./simpleserial_sca25519-\" + PLATFORM + \".hex\"\n",
    "cw.program_target(scope, prog, HEXFILE)"
   ]
  },
  {
   "cell_type": "markdown",
   "metadata": {},
   "source": [
    "## Test software\n",
    "\n",
    "Just a test echo command."
   ]
  },
  {
   "cell_type": "code",
   "execution_count": null,
   "metadata": {},
   "outputs": [],
   "source": [
    "# Send test signal\n",
    "CMD_TEST = 'e'\n",
    "\n",
    "DATA_LEN=16\n",
    "RESP_LEN=16\n",
    "\n",
    "target.flush()\n",
    "msg = bytearray([x for x in range(DATA_LEN)])\n",
    "scope.arm()\n",
    "target.simpleserial_write(CMD_TEST,msg)\n",
    "scope.capture()\n",
    "response = target.simpleserial_read('r', RESP_LEN)\n",
    "print(\"res: {}\".format(response))"
   ]
  },
  {
   "cell_type": "markdown",
   "metadata": {},
   "source": [
    "## Capute a trace\n",
    "\n",
    "Now we capture a single trace. Be aware that for your target you will need to adjust \n",
    "```python\n",
    "scope.adc.samples = ...\n",
    "scope.adc.decimate = ...\n",
    "```\n",
    "\n",
    "#### Capturing traces for analysis\n",
    "\n",
    "Note that to capture traces for analysis you need save not only the traces but also the code would need to be modified to save the input and output data. "
   ]
  },
  {
   "cell_type": "code",
   "execution_count": null,
   "metadata": {},
   "outputs": [],
   "source": [
    "%matplotlib notebook\n",
    "#%matplotlib notebook\n",
    "import matplotlib.pyplot as plt\n",
    "CMD_TEST = 'b'\n",
    "\n",
    "scope.adc.samples = 24400\n",
    "scope.adc.decimate = 30\n",
    "scope.clock.adc_src = 'clkgen_x1'\n",
    "scope.gain.db = 30\n",
    "\n",
    "target.flush()\n",
    "msg = bytearray([x for x in range(DATA_LEN)])\n",
    "scope.arm()\n",
    "target.simpleserial_write(CMD_TEST,msg)\n",
    "scope.capture()\n",
    "response = target.simpleserial_read('r', RESP_LEN)\n",
    "print(\"res: {}\".format(response))\n",
    "\n",
    "last_trace = scope.get_last_trace()\n",
    "print(scope.adc.trig_count)\n",
    "plt.plot(last_trace)\n",
    "plt.show()"
   ]
  },
  {
   "cell_type": "markdown",
   "metadata": {},
   "source": [
    "## Disconnect from Board"
   ]
  },
  {
   "cell_type": "code",
   "execution_count": null,
   "metadata": {},
   "outputs": [],
   "source": [
    "scope.dis()\n",
    "target.dis()"
   ]
  },
  {
   "cell_type": "code",
   "execution_count": null,
   "metadata": {},
   "outputs": [],
   "source": []
  }
 ],
 "metadata": {
  "kernelspec": {
   "display_name": "Python 3 (ipykernel)",
   "language": "python",
   "name": "python3"
  },
  "language_info": {
   "codemirror_mode": {
    "name": "ipython",
    "version": 3
   },
   "file_extension": ".py",
   "mimetype": "text/x-python",
   "name": "python",
   "nbconvert_exporter": "python",
   "pygments_lexer": "ipython3",
   "version": "3.8.10"
  },
  "vscode": {
   "interpreter": {
    "hash": "d8280fdd5565f216e4346312f203738ddcc80b67974cd3939fc80f87018acc53"
   }
  }
 },
 "nbformat": 4,
 "nbformat_minor": 2
}
